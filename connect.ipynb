{
 "cells": [
  {
   "cell_type": "markdown",
   "id": "f581070c-84e1-4332-81ce-aefe42611a6a",
   "metadata": {},
   "source": [
    "# Basic connection\n",
    "\n",
    "This is the basic setup code that is used by most notebooks in this book."
   ]
  },
  {
   "cell_type": "code",
   "execution_count": null,
   "id": "4ba33fa1-94fc-48b7-80b0-6f0fd1072022",
   "metadata": {},
   "outputs": [],
   "source": [
    "import chipwhisperer as cw\n",
    "scope = cw.scope(name='Husky')\n",
    "scope.errors.clear()\n",
    "scope.default_setup(verbose=False)\n",
    "target = cw.target(scope, cw.targets.SimpleSerial)"
   ]
  },
  {
   "cell_type": "code",
   "execution_count": null,
   "id": "f3594536-cf27-4377-8b2e-dc5b007d9f7a",
   "metadata": {},
   "outputs": [],
   "source": [
    "# reset target:\n",
    "import time\n",
    "def reset_target(scope):\n",
    "    scope.io.nrst = 'low'\n",
    "    time.sleep(0.25)\n",
    "    scope.io.nrst = 'high_z'\n",
    "    time.sleep(0.25)\n",
    "reset_target(scope)"
   ]
  },
  {
   "cell_type": "code",
   "execution_count": null,
   "id": "12b1e52c-fa65-49eb-82d9-00c196eecaa6",
   "metadata": {},
   "outputs": [],
   "source": [
    "# don't want to see warnings cluttering the jupyter books output:\n",
    "#cw.scope_logger.setLevel(cw.logging.ERROR)"
   ]
  },
  {
   "cell_type": "code",
   "execution_count": null,
   "id": "60ee2cab-5f7a-4bfd-ac50-ff9486f6cce6",
   "metadata": {},
   "outputs": [],
   "source": [
    "# disable gain errors:\n",
    "scope.adc.lo_gain_errors_disabled = True\n",
    "scope.adc.clip_errors_disabled = True"
   ]
  },
  {
   "cell_type": "code",
   "execution_count": null,
   "id": "6c790f97-e2c6-47f1-8a4a-99798144df3e",
   "metadata": {},
   "outputs": [],
   "source": [
    "# required for jupyterbook to render cw.plot output; not required if running as a \"normal\" notebook:\n",
    "import os\n",
    "os.environ['HV_DOC_HTML'] = 'true'"
   ]
  },
  {
   "cell_type": "code",
   "execution_count": null,
   "id": "6cf8fce3-268c-4709-b5db-3cb0d3bac9f5",
   "metadata": {},
   "outputs": [],
   "source": []
  }
 ],
 "metadata": {
  "kernelspec": {
   "display_name": "Python (venv39)",
   "language": "python",
   "name": "python3"
  },
  "language_info": {
   "codemirror_mode": {
    "name": "ipython",
    "version": 3
   },
   "file_extension": ".py",
   "mimetype": "text/x-python",
   "name": "python",
   "nbconvert_exporter": "python",
   "pygments_lexer": "ipython3",
   "version": "3.9.7"
  }
 },
 "nbformat": 4,
 "nbformat_minor": 5
}
