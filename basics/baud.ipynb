{
 "cells": [
  {
   "cell_type": "markdown",
   "id": "d9ef0d6e-0f43-492b-b218-28059c8e40c4",
   "metadata": {},
   "source": [
    "# How to change the clock frequency of SimpleSerial targets?\n",
    "\n",
    "The target firmware used in almost all of our [Jupyter notebooks](https://github.com/newaetech/chipwhisperer-jupyter) uses the [SimpleSerial protocol](https://chipwhisperer.readthedocs.io/en/latest/simpleserial.html).\n",
    "\n",
    "SimpleSerial works over UART, on the `TIO1` and `TIO2` pins of the 20-pin target connector.\n",
    "\n",
    "Whether it's SimpleSerial [v1](https://chipwhisperer.readthedocs.io/en/latest/simpleserial.html#simpleserial-v1-1) or [v2](https://chipwhisperer.readthedocs.io/en/latest/simpleserial.html#simpleserial-v2-1), the target uses a fixed baud rate to communicate: 38400 bps for v1 and 230400 bps for v2. The target firmware establishes this in relation to its clock frequency, which is expected to be 7.37 MHz.\n",
    "\n",
    "If you want to change the target clock, you have two options:\n",
    "\n",
    "1. Modify and recompile the target firmware to account for your new desired clock frequency. This is unnecessarily complicated.\n",
    "2. Scale the baud rate that is used to communicate with the target - no recompilation required!\n",
    "\n",
    "The scaling is linear: consider for example a v1 target which expects to communicate at 38400 bps when clocked at 7.37 MHz. If the actual clock frequency is doubled to 14.74 MHz, then the rate that the target will communicate at also doubles to become 76800 bps."
   ]
  },
  {
   "cell_type": "markdown",
   "id": "02db9db6-6b1a-4286-ba45-2ad13b48e231",
   "metadata": {},
   "source": [
    "**Supported Capture Hardware:**\\\n",
    "✅ CW-Nano\\\n",
    "✅ CW-Lite\\\n",
    "✅ CW-Pro\\\n",
    "✅ CW-Husky\n",
    "\n",
    "**Required ChipWhisperer software installation:**\\\n",
    "✅ any release"
   ]
  },
  {
   "cell_type": "code",
   "execution_count": 1,
   "id": "a8dd155f-d76a-4661-94d6-c84016b88a2e",
   "metadata": {},
   "outputs": [],
   "source": [
    "%run '../connect.ipynb'\n",
    "cw.scope_logger.setLevel(cw.logging.WARNING) # turn warnings back on"
   ]
  },
  {
   "cell_type": "markdown",
   "id": "a747108f-5f00-4720-8578-1bd42cff2b51",
   "metadata": {},
   "source": [
    "Let's confirm the default settings that `../connect.ipynb` gave us via `scope.default_setup()` and `cw.target()`:"
   ]
  },
  {
   "cell_type": "code",
   "execution_count": 2,
   "id": "7a7b4e14-d71a-48a4-b41c-94ef0dce32fc",
   "metadata": {},
   "outputs": [
    {
     "name": "stdout",
     "output_type": "stream",
     "text": [
      "Clock: 7363636.363636 MHz\n",
      "Baud: 38400 bps\n"
     ]
    }
   ],
   "source": [
    "CLOCK = scope.clock.clkgen_freq\n",
    "BAUD = target.baud\n",
    "print('Clock: %f MHz\\nBaud: %d bps' % (CLOCK, BAUD))"
   ]
  },
  {
   "cell_type": "markdown",
   "id": "cf3b0068-2515-4f4c-9ee3-687929917e80",
   "metadata": {},
   "source": [
    "We can confirm that communication is working by running a capture.\n",
    "\n",
    "If your target is running `simpleserial-aes` firmware, this will run the target AES operation. For different target firmware, substitute with what's needed to make your target \"go\":"
   ]
  },
  {
   "cell_type": "code",
   "execution_count": 3,
   "id": "c3655406-b1e6-4e11-88c4-accf2cadf7a0",
   "metadata": {},
   "outputs": [],
   "source": [
    "trace = cw.capture_trace(scope, target, bytearray(16), bytearray(16))"
   ]
  },
  {
   "cell_type": "markdown",
   "id": "773d6681-71f0-4dc5-9ad4-a79e3db2a621",
   "metadata": {},
   "source": [
    "Next we define our new clock frequency and change the baud rate accordingly:"
   ]
  },
  {
   "cell_type": "code",
   "execution_count": 4,
   "id": "d03859cd-bee1-4815-9e07-19622e00ce62",
   "metadata": {},
   "outputs": [],
   "source": [
    "NEWCLOCK = 12e6\n",
    "scope.clock.clkgen_freq = NEWCLOCK\n",
    "target.baud = BAUD * NEWCLOCK / CLOCK"
   ]
  },
  {
   "cell_type": "markdown",
   "id": "239f8482-0b01-412b-99ff-2e5856479c5d",
   "metadata": {},
   "source": [
    "Because we adjusted `target.baud`, the capture will still work at the new clock frequency:"
   ]
  },
  {
   "cell_type": "code",
   "execution_count": 5,
   "id": "c4779192-3614-4911-9ff1-843367ab1e85",
   "metadata": {},
   "outputs": [],
   "source": [
    "trace = cw.capture_trace(scope, target, bytearray(16), bytearray(16))"
   ]
  },
  {
   "cell_type": "code",
   "execution_count": 6,
   "id": "ea9d06c2-b813-4b05-9fc2-5f379bbd68d2",
   "metadata": {},
   "outputs": [],
   "source": [
    "assert not scope.adc.errors, scope.adc.errors"
   ]
  },
  {
   "cell_type": "code",
   "execution_count": null,
   "id": "846fe733-8d9f-4563-a6f7-310ac41d99c1",
   "metadata": {},
   "outputs": [],
   "source": []
  }
 ],
 "metadata": {
  "kernelspec": {
   "display_name": "Python 3 (ipykernel)",
   "language": "python",
   "name": "python3"
  },
  "language_info": {
   "codemirror_mode": {
    "name": "ipython",
    "version": 3
   },
   "file_extension": ".py",
   "mimetype": "text/x-python",
   "name": "python",
   "nbconvert_exporter": "python",
   "pygments_lexer": "ipython3",
   "version": "3.9.7"
  }
 },
 "nbformat": 4,
 "nbformat_minor": 5
}
