{
 "cells": [
  {
   "cell_type": "markdown",
   "id": "d9ef0d6e-0f43-492b-b218-28059c8e40c4",
   "metadata": {},
   "source": [
    "# How to use streaming mode?\n",
    "\n",
    "Streaming allows you to run a longer capture that is not limited by your ChipWhisperer capture device's on-board storage.\n",
    "\n",
    "Streaming is supported by CW-Pro and CW-Husky.\n",
    "\n",
    "The downside? The sample rate must be kept below roughly 10 MS/s (Pro) or 20 MS/s (Husky), which is well below the maximum sampling rates supported.\n",
    "\n",
    "The streaming sampling rate limit isn't enforced by the API: the capture is always attempted, and if the sampling rate is too high, the capture will fail.\n",
    "\n",
    "Whether a capture succeeds or not depends on the capture size and activity from other devices on your USB bus. For example, if some other USB-based oscilloscope or logic analyzer is also triggered by the capture, you will not be able to achieve the maximum sampling rates."
   ]
  },
  {
   "cell_type": "markdown",
   "id": "02db9db6-6b1a-4286-ba45-2ad13b48e231",
   "metadata": {},
   "source": [
    "**Supported Capture Hardware:**\\\n",
    "❌ CW-Nano\\\n",
    "❌ CW-Lite\\\n",
    "✅ CW-Pro\\\n",
    "✅ CW-Husky\n",
    "\n",
    "**Required ChipWhisperer software installation:**\\\n",
    "✅ any release"
   ]
  },
  {
   "cell_type": "code",
   "execution_count": 1,
   "id": "a8dd155f-d76a-4661-94d6-c84016b88a2e",
   "metadata": {},
   "outputs": [],
   "source": [
    "%run '../connect.ipynb'\n",
    "cw.scope_logger.setLevel(cw.logging.WARNING) # turn warnings back on"
   ]
  },
  {
   "cell_type": "markdown",
   "id": "d9edc183-0b19-4cae-8c27-2e973ec453f5",
   "metadata": {},
   "source": [
    "The default sampling rate (29.48 MS/s) is too high for streaming so we reduce it to 7.37 MS/s. How this is done depends on your capture hardware:"
   ]
  },
  {
   "cell_type": "code",
   "execution_count": 2,
   "id": "83ff2e64-8ea5-4f4c-a49e-c0d78026f91e",
   "metadata": {},
   "outputs": [
    {
     "name": "stderr",
     "output_type": "stream",
     "text": [
      "(ChipWhisperer Scope WARNING|File ChipWhispererHuskyClock.py:703) Target clock may drop; you may need to reset your target.\n"
     ]
    }
   ],
   "source": [
    "if scope._is_husky:\n",
    "    scope.clock.adc_mul = 1\n",
    "else: # Pro\n",
    "    scope.clock.adc_src = 'clkgen_x1'"
   ]
  },
  {
   "cell_type": "markdown",
   "id": "5813ba4b-32de-4a18-b998-afbbe62cde49",
   "metadata": {},
   "source": [
    "Turning on streaming is very simple: just set `scope.adc.stream_mode`.\n",
    "\n",
    "Let's capture 1 million samples:"
   ]
  },
  {
   "cell_type": "code",
   "execution_count": 3,
   "id": "1956f37c-b1b2-46e6-8d89-ba3f15efde29",
   "metadata": {},
   "outputs": [],
   "source": [
    "scope.adc.stream_mode = True\n",
    "scope.adc.samples = int(1e6)"
   ]
  },
  {
   "cell_type": "markdown",
   "id": "cf3b0068-2515-4f4c-9ee3-687929917e80",
   "metadata": {},
   "source": [
    "If your target is running `simpleserial-aes` firmware, this will run the target AES operation. For different target firmware, substitute with what's needed to make your target \"go\":"
   ]
  },
  {
   "cell_type": "code",
   "execution_count": 4,
   "id": "c3655406-b1e6-4e11-88c4-accf2cadf7a0",
   "metadata": {},
   "outputs": [],
   "source": [
    "trace = cw.capture_trace(scope, target, bytearray(16), bytearray(16))"
   ]
  },
  {
   "cell_type": "code",
   "execution_count": 5,
   "id": "6d9183db-b2ca-4d3a-b95f-77f4a1196510",
   "metadata": {},
   "outputs": [
    {
     "name": "stdout",
     "output_type": "stream",
     "text": [
      "sam_errors      = False\n",
      "sam_led_setting = Default\n",
      "XADC errors     = False\n",
      "ADC errors      = False\n",
      "extclk error    = False\n",
      "trace errors    = False\n",
      "\n"
     ]
    }
   ],
   "source": [
    "print(scope.errors)"
   ]
  },
  {
   "cell_type": "markdown",
   "id": "44e7adfd-3d3d-493f-9cc5-0732fd02aca9",
   "metadata": {},
   "source": [
    "When you have a very long capture, you can run into timeout issues: after `scope.adc.timeout` seconds, `cw.capture_trace()` times out in error.\n",
    "\n",
    "For example, 20 million samples at 7.37 MS/s is almost 3 seconds, so we need to increase `scope.adc.timeout` accordingly for the capture to succeed:"
   ]
  },
  {
   "cell_type": "code",
   "execution_count": 6,
   "id": "de593a82-4294-4108-9c0b-452403943f47",
   "metadata": {},
   "outputs": [],
   "source": [
    "scope.adc.timeout = 3\n",
    "scope.adc.samples = int(20e6)\n",
    "trace = cw.capture_trace(scope, target, bytearray(16), bytearray(16))"
   ]
  },
  {
   "attachments": {},
   "cell_type": "markdown",
   "id": "185cb09e-1a5d-4872-abfd-c49d89b98625",
   "metadata": {},
   "source": [
    "On Husky, a failed stream capture may require the notebook to be restarted.\n",
    "\n",
    "Finally, note that the stated maximum sampling rate can be exceeded if the capture is relatively short.\n",
    "\n",
    "For example, this 150000-sample capture at 29.48 MS/s should work reliably on Husky:"
   ]
  },
  {
   "cell_type": "code",
   "execution_count": 7,
   "id": "eabe713e-4781-4b09-ac39-7d50ea00cdc9",
   "metadata": {},
   "outputs": [
    {
     "name": "stderr",
     "output_type": "stream",
     "text": [
      "(ChipWhisperer Scope WARNING|File ChipWhispererHuskyClock.py:703) Target clock may drop; you may need to reset your target.\n"
     ]
    }
   ],
   "source": [
    "if scope._is_husky:\n",
    "    scope.clock.adc_mul = 4\n",
    "else: # Pro\n",
    "    scope.clock.adc_src = 'clkgen_x4'"
   ]
  },
  {
   "cell_type": "code",
   "execution_count": 8,
   "id": "6bef0907-5972-4f12-8316-586f170a13d1",
   "metadata": {},
   "outputs": [],
   "source": [
    "scope.adc.timeout = 1\n",
    "scope.adc.samples = 150000\n",
    "trace = cw.capture_trace(scope, target, bytearray(16), bytearray(16))"
   ]
  },
  {
   "cell_type": "markdown",
   "id": "54944686-bde2-4db1-a0cc-4dcb40a11814",
   "metadata": {},
   "source": [
    "Finally, on Husky a faster streaming rate can be achieved by lowering the number of bits per sample (default 12) to 8:"
   ]
  },
  {
   "cell_type": "code",
   "execution_count": 9,
   "id": "e5bab0ab-489b-4cf1-a37c-76b4a47bfb6a",
   "metadata": {},
   "outputs": [],
   "source": [
    "scope.adc.bits_per_sample = 8"
   ]
  },
  {
   "cell_type": "code",
   "execution_count": 10,
   "id": "ea9d06c2-b813-4b05-9fc2-5f379bbd68d2",
   "metadata": {},
   "outputs": [],
   "source": [
    "assert not scope.adc.errors, scope.adc.errors"
   ]
  },
  {
   "cell_type": "code",
   "execution_count": null,
   "id": "03f46f16-6626-47f3-93ce-545d104834a6",
   "metadata": {},
   "outputs": [],
   "source": []
  }
 ],
 "metadata": {
  "kernelspec": {
   "display_name": "Python 3 (ipykernel)",
   "language": "python",
   "name": "python3"
  },
  "language_info": {
   "codemirror_mode": {
    "name": "ipython",
    "version": 3
   },
   "file_extension": ".py",
   "mimetype": "text/x-python",
   "name": "python",
   "nbconvert_exporter": "python",
   "pygments_lexer": "ipython3",
   "version": "3.9.7"
  }
 },
 "nbformat": 4,
 "nbformat_minor": 5
}
