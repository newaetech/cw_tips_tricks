{
 "cells": [
  {
   "cell_type": "markdown",
   "id": "d9ef0d6e-0f43-492b-b218-28059c8e40c4",
   "metadata": {},
   "source": [
    "# When do triggers occur?\n",
    "\n",
    "When multiple triggers occur (e.g. when doing a [segmented capture](segmented.ipynb)), it can be really useful to learn when the triggers occur (relative to the first trigger).\n",
    "\n",
    "`scope.trigger.get_trigger_times()` lets you do just that.\n",
    "\n",
    "We use it in our [sca205](https://github.com/newaetech/chipwhisperer-jupyter/tree/main/courses/sca205) notebooks and in SADExplorer (TODO-link), and it's a critical part of both of those; here we show how easy it is to use with a simple example."
   ]
  },
  {
   "cell_type": "markdown",
   "id": "02db9db6-6b1a-4286-ba45-2ad13b48e231",
   "metadata": {},
   "source": [
    "**Supported Capture Hardware:**\\\n",
    "❌ CW-Nano\\\n",
    "❌ CW-Lite\\\n",
    "❌ CW-Pro\\\n",
    "✅ CW-Husky\n",
    "\n",
    "**Required ChipWhisperer software installation:**\\\n",
    "✅ any release"
   ]
  },
  {
   "cell_type": "code",
   "execution_count": 1,
   "id": "a8dd155f-d76a-4661-94d6-c84016b88a2e",
   "metadata": {},
   "outputs": [],
   "source": [
    "%run '../connect.ipynb'\n",
    "cw.scope_logger.setLevel(cw.logging.WARNING) # turn warnings back on"
   ]
  },
  {
   "cell_type": "markdown",
   "id": "95dba8d9-de80-4988-a25f-5a78cf8481da",
   "metadata": {},
   "source": [
    "There are different ways to get multiple triggers. With the `simpleserial-aes` firmware, the easiest is to use the `'n'` and `'f'` commands so that sending a single plaintext triggers multiple encryptions, each of which raises and lowers the `TIO4` trigger line.\n",
    "\n",
    "Let's trigger 4 encryptions:"
   ]
  },
  {
   "cell_type": "code",
   "execution_count": 2,
   "id": "0ce75dc9-d942-43ee-81c3-2d521e4dc0e4",
   "metadata": {},
   "outputs": [],
   "source": [
    "NUM_ENCRYPTIONS = 4\n",
    "scope.adc.samples = 98000\n",
    "target.simpleserial_write('n', list(int.to_bytes(NUM_ENCRYPTIONS, length=2, byteorder='big'))) # set the number of encryptions\n",
    "target.simpleserial_wait_ack()\n",
    "\n",
    "scope.arm()\n",
    "target.simpleserial_write('f', bytearray(16)) # trigger the encryptions\n",
    "ret = scope.capture(poll_done=True)\n",
    "wave = scope.get_last_trace()\n",
    "resp = target.simpleserial_read('r', 16)"
   ]
  },
  {
   "cell_type": "markdown",
   "id": "1c8b71d7-1279-4d86-a10d-04ebd88e63fd",
   "metadata": {},
   "source": [
    "Note that here a \"segmenting error\" is normal and expected because triggers occurs while the capture is still ongoing."
   ]
  },
  {
   "cell_type": "code",
   "execution_count": 3,
   "id": "41f3bdb9-0b4e-4c7b-b9bb-a1ee6cbb85a5",
   "metadata": {},
   "outputs": [
    {
     "data": {
      "text/plain": [
       "'segmenting error, '"
      ]
     },
     "execution_count": 3,
     "metadata": {},
     "output_type": "execute_result"
    }
   ],
   "source": [
    "scope.adc.errors"
   ]
  },
  {
   "cell_type": "code",
   "execution_count": 4,
   "id": "d9f81592-2435-49ed-a667-6550ff66994b",
   "metadata": {},
   "outputs": [],
   "source": [
    "scope.errors.clear()"
   ]
  },
  {
   "cell_type": "markdown",
   "id": "58be39e1-a3c4-4145-8e16-165a9be93a07",
   "metadata": {},
   "source": [
    "Now we read the timestamps for the triggers (relative to the first trigger). Since the target triggered 4 times, we should get 3 timestamps, and they should all be evenly spaced.\n",
    "\n",
    "Timestamps are measured with the ADC sampling clock."
   ]
  },
  {
   "cell_type": "code",
   "execution_count": 5,
   "id": "b5e24830-28d5-4fbc-bbed-79a7077634d6",
   "metadata": {},
   "outputs": [],
   "source": [
    "ttimes = scope.trigger.get_trigger_times()"
   ]
  },
  {
   "cell_type": "code",
   "execution_count": 6,
   "id": "cfa97911-f150-4b18-b22a-ffa99d021cf3",
   "metadata": {},
   "outputs": [
    {
     "name": "stdout",
     "output_type": "stream",
     "text": [
      "[32500, 32500, 32500]\n"
     ]
    }
   ],
   "source": [
    "print(ttimes)"
   ]
  },
  {
   "cell_type": "code",
   "execution_count": 7,
   "id": "34101735-a9e4-47f7-9bc0-7439db741b2d",
   "metadata": {},
   "outputs": [],
   "source": [
    "assert len(ttimes) == 3\n",
    "for t in range(1, len(ttimes)):\n",
    "    assert ttimes[t] == ttimes[0]"
   ]
  },
  {
   "cell_type": "markdown",
   "id": "4fa95340-d079-47fe-acc0-43f9aaae838c",
   "metadata": {},
   "source": [
    "While this example is not terribly helpful, you could adapt it to learn, for example, when a particular portion of the AES round occurs, by raising the trigger line every time (for example) that the mixcolumns operation is executed."
   ]
  },
  {
   "cell_type": "code",
   "execution_count": 8,
   "id": "ea9d06c2-b813-4b05-9fc2-5f379bbd68d2",
   "metadata": {},
   "outputs": [],
   "source": [
    "assert not scope.adc.errors, scope.adc.errors"
   ]
  },
  {
   "cell_type": "code",
   "execution_count": null,
   "id": "846fe733-8d9f-4563-a6f7-310ac41d99c1",
   "metadata": {},
   "outputs": [],
   "source": []
  }
 ],
 "metadata": {
  "kernelspec": {
   "display_name": "Python 3 (ipykernel)",
   "language": "python",
   "name": "python3"
  },
  "language_info": {
   "codemirror_mode": {
    "name": "ipython",
    "version": 3
   },
   "file_extension": ".py",
   "mimetype": "text/x-python",
   "name": "python",
   "nbconvert_exporter": "python",
   "pygments_lexer": "ipython3",
   "version": "3.9.7"
  }
 },
 "nbformat": 4,
 "nbformat_minor": 5
}
