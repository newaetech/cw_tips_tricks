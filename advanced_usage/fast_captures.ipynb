{
 "cells": [
  {
   "attachments": {},
   "cell_type": "markdown",
   "id": "128a923f-8a71-4472-ac7a-87fac7836200",
   "metadata": {},
   "source": [
    "# How to speed up captures?\n",
    "\n",
    "**Supported Capture Hardware:**\\\n",
    "❌ CW-Nano\\\n",
    "❌ CW-Lite\\\n",
    "❌ CW-Pro\\\n",
    "✅ CW-Husky\n",
    "\n",
    "**Required ChipWhisperer software installation:**\\\n",
    "✅ any release"
   ]
  },
  {
   "cell_type": "code",
   "execution_count": 1,
   "id": "4facc6d7-e51f-4c73-97dd-cbed747b85ed",
   "metadata": {},
   "outputs": [],
   "source": [
    "%run '../connect.ipynb'"
   ]
  },
  {
   "cell_type": "markdown",
   "id": "fbe16bc9-091b-4e20-9e7e-e73a2f3ffde7",
   "metadata": {},
   "source": [
    "To get fast captures, we must first understand what makes captures slow. Here we assume the target is running our `simpleserial-aes` firmware, but the principles are applicable to other target firmware.\n",
    "\n",
    "Running `cw.capture_trace()` kicks off the following steps:\n",
    "1. Send the key and plaintext to the target over UART.\n",
    "2. After receiving the plaintext, the target begins its encryption operation.\n",
    "3. The target sends the encryption result back over UART.\n",
    "4. ChipWhisperer reads the recorded power samples.\n",
    "\n",
    "Let's see how fast this can go:"
   ]
  },
  {
   "cell_type": "code",
   "execution_count": 2,
   "id": "c3655406-b1e6-4e11-88c4-accf2cadf7a0",
   "metadata": {},
   "outputs": [
    {
     "data": {
      "application/vnd.jupyter.widget-view+json": {
       "model_id": "5da057beed9b433b84ed207124c31f7e",
       "version_major": 2,
       "version_minor": 0
      },
      "text/plain": [
       "  0%|          | 0/100 [00:00<?, ?it/s]"
      ]
     },
     "metadata": {},
     "output_type": "display_data"
    },
    {
     "name": "stdout",
     "output_type": "stream",
     "text": [
      "Elapsed time: 3.285 seconds;  30.4 captures/second\n"
     ]
    }
   ],
   "source": [
    "import datetime\n",
    "starttime = datetime.datetime.now()\n",
    "from tqdm.notebook import tnrange\n",
    "for i in tnrange(100):\n",
    "    trace = cw.capture_trace(scope, target, bytearray(16), bytearray(16))\n",
    "\n",
    "elapsed = datetime.datetime.now() - starttime\n",
    "print('Elapsed time: %1.3f seconds; %5.1f captures/second' % (elapsed.total_seconds(), 100/elapsed.total_seconds()))"
   ]
  },
  {
   "cell_type": "markdown",
   "id": "8ce72a73-e8f9-4af3-b430-123ac3da596a",
   "metadata": {},
   "source": [
    "Throughput will depend on many factors but should be on the order of 30 encryptions per second.\n",
    "\n",
    "For most of our notebooks, this is more than fine, since only a few hundred traces are needed.\n",
    "\n",
    "But some side-channel attacks require orders of magnitude more traces. Trace aquisition speed can then become a limiting factor.\n",
    "\n",
    "The good news is that with some small tweaks to the target firmware and to the capture code, things can be made to go *a lot* faster.\n",
    "\n",
    "With a logic analyzer, you can see how long each of the steps above take:\n",
    "\n",
    "![Thresholds](../Images/SSv1_throughput.png)"
   ]
  },
  {
   "cell_type": "markdown",
   "id": "7a847cbb-796c-4cc4-b5c7-d42908fffbb1",
   "metadata": {},
   "source": [
    "We can see that the target operation (indicated by the `GPIO4` pulse) takes very little time compared to steps 1, 2 and 4.\n",
    "\n",
    "This was with `scope.adc.samples = 5000`; decreasing this does not accelerate the capture because of how USB transfers work, however increasing the number of samples past a certain point does slow it down.\n",
    "\n",
    "One thing we can do is to switch to the version 2 of the SimpleSerial protocol, which runs at 230400 bps instead of 38400 bps:"
   ]
  },
  {
   "cell_type": "code",
   "execution_count": 4,
   "id": "5e47622d-9166-4fae-96b8-c4c5fc325759",
   "metadata": {},
   "outputs": [],
   "source": [
    "cw.program_target(scope, cw.programmers.SAM4SProgrammer, '../fw/simpleserial-aes-SSv2.hex')\n",
    "target.dis()\n",
    "target = cw.target(scope, cw.targets.SimpleSerial2)\n",
    "reset_target(scope)"
   ]
  },
  {
   "cell_type": "code",
   "execution_count": 5,
   "id": "a43d9235-2acc-4d86-956c-1b308e0a74b9",
   "metadata": {},
   "outputs": [
    {
     "data": {
      "application/vnd.jupyter.widget-view+json": {
       "model_id": "7fd12e6ee013459da257f519e944839e",
       "version_major": 2,
       "version_minor": 0
      },
      "text/plain": [
       "  0%|          | 0/100 [00:00<?, ?it/s]"
      ]
     },
     "metadata": {},
     "output_type": "display_data"
    },
    {
     "name": "stdout",
     "output_type": "stream",
     "text": [
      "Elapsed time: 1.985 seconds;  50.4 captures/second\n"
     ]
    }
   ],
   "source": [
    "starttime = datetime.datetime.now()\n",
    "from tqdm.notebook import tnrange\n",
    "for i in tnrange(100):\n",
    "    trace = cw.capture_trace(scope, target, bytearray(16), bytearray(16))\n",
    "\n",
    "elapsed = datetime.datetime.now() - starttime\n",
    "print('Elapsed time: %1.3f seconds; %5.1f captures/second' % (elapsed.total_seconds(), 100/elapsed.total_seconds()))"
   ]
  },
  {
   "cell_type": "markdown",
   "id": "d895d45a-7d70-465c-bad6-26d5782f0eda",
   "metadata": {},
   "source": [
    "This gives a nice boost; now most of the time is spent reading data back:\n",
    "\n",
    "![Thresholds](../Images/SSv2_throughput.png)"
   ]
  },
  {
   "cell_type": "markdown",
   "id": "37e12d05-a052-42c3-abd1-dd6b21848249",
   "metadata": {},
   "source": [
    "We could get a much larger throughput boost if we could avoid reading the captured data after every single target encryption, and instead read the capture samples from multiple target operations into a single burst.\n",
    "\n",
    "If you're familiar with [segmented capture](segmented.ipynb), then you know where this is going: we can ask Husky to capture `X` samples each time is is triggered.\n",
    "\n",
    "A **bad** way to do this is shown below. The problem here is that Python and the host PC are still in the loop, sending each plaintext one at a time, waiting for the target to complete its encryption before sending the next plaintext.\n",
    "\n",
    "Not only will this limit the trace acquisition speed, it's also possible (due to OS delays on the host PC) that the trigger is \"missed\" (i.e. TIO4 goes high and back low before the `while not scope.io.tio_states[3]` line).\n",
    "\n",
    "**Don't do it this way -- this is only shown as a stepping stone towards a better solution.**"
   ]
  },
  {
   "cell_type": "code",
   "execution_count": 6,
   "id": "0e5ade71-f4d7-4dd4-883b-696f61ece984",
   "metadata": {},
   "outputs": [
    {
     "name": "stdout",
     "output_type": "stream",
     "text": [
      "***WARNING: this is a bad example, DO NOT BORROW IT!***\n"
     ]
    },
    {
     "data": {
      "application/vnd.jupyter.widget-view+json": {
       "model_id": "fde6c0a6e1544ef8851a54b5d6db9e14",
       "version_major": 2,
       "version_minor": 0
      },
      "text/plain": [
       "  0%|          | 0/100 [00:00<?, ?it/s]"
      ]
     },
     "metadata": {},
     "output_type": "display_data"
    },
    {
     "name": "stdout",
     "output_type": "stream",
     "text": [
      "Elapsed time: 0.448 seconds; 223.1 captures/second\n"
     ]
    }
   ],
   "source": [
    "print('***WARNING: this is a bad example, DO NOT BORROW IT!***')\n",
    "\n",
    "scope.adc.segments = 100\n",
    "scope.adc.samples = 500\n",
    "\n",
    "scope.arm()\n",
    "\n",
    "starttime = datetime.datetime.now()\n",
    "for i in tnrange(scope.adc.segments):\n",
    "    # make the target encrypt:\n",
    "    target.simpleserial_write('p', bytearray(16))\n",
    "    # wait for TIO4 to go high:\n",
    "    while not scope.io.tio_states[3]:\n",
    "        pass\n",
    "    # wait for TIO4 to go back low:\n",
    "    while scope.io.tio_states[3]:\n",
    "        pass\n",
    "\n",
    "elapsed = datetime.datetime.now() - starttime\n",
    "print('Elapsed time: %1.3f seconds; %5.1f captures/second' % (elapsed.total_seconds(), scope.adc.segments/elapsed.total_seconds()))\n",
    "\n",
    "# clear things up just in case:\n",
    "scope.sc.arm(False)\n",
    "scope.errors.clear()"
   ]
  },
  {
   "cell_type": "markdown",
   "id": "ce6f0989-3c64-4faf-a5ab-892a98f4eec4",
   "metadata": {},
   "source": [
    "Still, this is a nice speedup (when it works!):\n",
    "![Thresholds](../Images/bad_segments.png)"
   ]
  },
  {
   "cell_type": "markdown",
   "id": "95f86523-8e5a-496e-85e3-f8aa91255a37",
   "metadata": {},
   "source": [
    "To do this **properly**, we need to take Python and the host PC out of the loop: we want to send a single message that kicks off **all** the encryptions.\n",
    "\n",
    "This is where you may have to get creative; the solution will depend on the target operation and the objective of your attack.\n",
    "\n",
    "Our stock `simpleserial-aes` firmware has an additional command `'f'` which can be used to kick off up to $2^{16}-1$ encryptions from a single plaintext: the ciphertext from encryption $i$ becomes the plaintext for encryption $i+1$.\n",
    "\n",
    "Let's try it out. First, we revert to the SSv1 firmware, because this feature isn't included in the SSv2 firmware:"
   ]
  },
  {
   "cell_type": "code",
   "execution_count": 7,
   "id": "37ae13fc-a9f6-45e9-a8ee-ce8aa75cad53",
   "metadata": {},
   "outputs": [],
   "source": [
    "cw.program_target(scope, cw.programmers.SAM4SProgrammer, '../fw/simpleserial-trace-SSv1.hex')\n",
    "target.dis()\n",
    "target = cw.target(scope, cw.targets.SimpleSerial)\n",
    "reset_target(scope)"
   ]
  },
  {
   "cell_type": "code",
   "execution_count": 8,
   "id": "2ad6cc92-2892-403c-a915-499b5e25c6b5",
   "metadata": {},
   "outputs": [
    {
     "name": "stdout",
     "output_type": "stream",
     "text": [
      "Elapsed time: 0.133 seconds; 752.6 captures/second\n"
     ]
    }
   ],
   "source": [
    "scope.adc.segments = 100\n",
    "\n",
    "# tell the target how many encryptions to do (scope.adc.segments):\n",
    "target.simpleserial_write('n', list(int.to_bytes(scope.adc.segments, length=2, byteorder='big')))\n",
    "target.simpleserial_wait_ack()\n",
    "\n",
    "scope.arm()\n",
    "starttime = datetime.datetime.now()\n",
    "target.simpleserial_write('f', bytearray(16))\n",
    "#target.flush()\n",
    "ret = scope.capture(poll_done=True)\n",
    "wave = scope.get_last_trace()\n",
    "resp = target.simpleserial_read('r', 16)\n",
    "elapsed = datetime.datetime.now() - starttime\n",
    "print('Elapsed time: %1.3f seconds; %5.1f captures/second' % (elapsed.total_seconds(), scope.adc.segments/elapsed.total_seconds()))"
   ]
  },
  {
   "cell_type": "markdown",
   "id": "ec8d516a-0a24-4258-87cb-a277f089ee3a",
   "metadata": {},
   "source": [
    "Now we have some serious speed!\n",
    "![Thresholds](../Images/fast_segments.png)"
   ]
  },
  {
   "cell_type": "markdown",
   "id": "d8107c04-2778-417f-9051-4604bf9d0639",
   "metadata": {},
   "source": [
    "We can go even faster, with more segments and fewer samples per segment:"
   ]
  },
  {
   "cell_type": "code",
   "execution_count": 9,
   "id": "22c3f42a-6bfb-4339-a17e-d7d967790618",
   "metadata": {},
   "outputs": [
    {
     "name": "stdout",
     "output_type": "stream",
     "text": [
      "Elapsed time: 1.126 seconds; 888.2 captures/second\n"
     ]
    }
   ],
   "source": [
    "scope.adc.samples = 50\n",
    "scope.adc.segments = 1000\n",
    "\n",
    "target.simpleserial_write('k', bytearray(16))\n",
    "target.simpleserial_wait_ack()\n",
    "target.simpleserial_write('n', list(int.to_bytes(scope.adc.segments, length=2, byteorder='big')))\n",
    "target.simpleserial_wait_ack()\n",
    "\n",
    "scope.arm()\n",
    "starttime = datetime.datetime.now()\n",
    "target.simpleserial_write('f', bytearray(16))\n",
    "#target.flush()\n",
    "ret = scope.capture(poll_done=True)\n",
    "wave = scope.get_last_trace()\n",
    "resp = target.simpleserial_read('r', 16)\n",
    "elapsed = datetime.datetime.now() - starttime\n",
    "print('Elapsed time: %1.3f seconds; %5.1f captures/second' % (elapsed.total_seconds(), scope.adc.segments/elapsed.total_seconds()))"
   ]
  },
  {
   "cell_type": "markdown",
   "id": "b8dd1b46-57ba-4d6a-8d79-cc14eeb042db",
   "metadata": {},
   "source": [
    "This is an approximately 29x speedup over the basic `cw.capture_trace()`.\n",
    "\n",
    "If you want to acquire a very large number of traces, you'll have to figure out how to efficiently store these traces as they come in.\n",
    "\n",
    "Oh- and we can still verify that the target encryptions were done correctly, by checking the result of the very last encryption, which the target sent back to us:"
   ]
  },
  {
   "cell_type": "code",
   "execution_count": 10,
   "id": "a1c1acc9-de3e-4d1a-944f-6af4ad3444ab",
   "metadata": {},
   "outputs": [],
   "source": [
    "from Crypto.Cipher import AES\n",
    "cipher = AES.new(bytearray(16), AES.MODE_ECB)\n",
    "ct = bytearray(16)\n",
    "for i in range(scope.adc.segments):\n",
    "    ct = cipher.encrypt(ct)\n",
    "assert ct == resp"
   ]
  },
  {
   "cell_type": "code",
   "execution_count": 11,
   "id": "ea9d06c2-b813-4b05-9fc2-5f379bbd68d2",
   "metadata": {},
   "outputs": [],
   "source": [
    "assert not scope.adc.errors, scope.adc.errors"
   ]
  },
  {
   "cell_type": "code",
   "execution_count": null,
   "id": "a44f0270-6fae-4531-818a-d0f1b810d24b",
   "metadata": {},
   "outputs": [],
   "source": []
  }
 ],
 "metadata": {
  "kernelspec": {
   "display_name": "Python 3 (ipykernel)",
   "language": "python",
   "name": "python3"
  },
  "language_info": {
   "codemirror_mode": {
    "name": "ipython",
    "version": 3
   },
   "file_extension": ".py",
   "mimetype": "text/x-python",
   "name": "python",
   "nbconvert_exporter": "python",
   "pygments_lexer": "ipython3",
   "version": "3.9.7"
  }
 },
 "nbformat": 4,
 "nbformat_minor": 5
}
