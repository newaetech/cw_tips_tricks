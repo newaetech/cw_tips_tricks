{
 "cells": [
  {
   "cell_type": "markdown",
   "id": "d9ef0d6e-0f43-492b-b218-28059c8e40c4",
   "metadata": {},
   "source": [
    "# How to use sequenced triggers?\n",
    "\n",
    "Sequenced triggers are a Husky-only feature.\n",
    "\n",
    "They are covered in the [04 - Husky Trigger Sequencer.ipynb notebook](https://github.com/newaetech/chipwhisperer-jupyter/blob/main/demos/husky/04%20-%20Husky%20Trigger%20Sequencer.ipynb)"
   ]
  },
  {
   "cell_type": "markdown",
   "id": "02db9db6-6b1a-4286-ba45-2ad13b48e231",
   "metadata": {},
   "source": [
    "**Supported Capture Hardware:**\\\n",
    "❌ CW-Nano\\\n",
    "❌ CW-Lite\\\n",
    "❌ CW-Pro\\\n",
    "✅ CW-Husky\n",
    "\n",
    "**Required ChipWhisperer software installation:**\\\n",
    "❌ not released yet\\\n",
    "✅ [develop branch](https://github.com/newaetech/chipwhisperer/tree/develop)"
   ]
  }
 ],
 "metadata": {
  "kernelspec": {
   "display_name": "Python 3 (ipykernel)",
   "language": "python",
   "name": "python3"
  },
  "language_info": {
   "codemirror_mode": {
    "name": "ipython",
    "version": 3
   },
   "file_extension": ".py",
   "mimetype": "text/x-python",
   "name": "python",
   "nbconvert_exporter": "python",
   "pygments_lexer": "ipython3",
   "version": "3.9.7"
  }
 },
 "nbformat": 4,
 "nbformat_minor": 5
}
